{
 "cells": [
  {
   "cell_type": "markdown",
   "metadata": {},
   "source": [
    "Partner: \n",
    "\n",
    "Date: "
   ]
  },
  {
   "cell_type": "markdown",
   "metadata": {},
   "source": [
    "# Equipment and materials\n",
    "| Description | Manufacturer | Model | ID or SN |\n",
    "| ----------- | ------------ | ----- | -------- |\n",
    "| Franck-Hertz tube in oven | fill in | fill in | fill in |\n",
    "| programmable power supply | BK Precision | 9172 | fill in |\n",
    "| picoammeter | Keithley | 6485 | fill in\n",
    "| fixed 6 V source | BK Precision | 1513 | fill in |\n",
    "| 1.5 V D cell and holder | --- | --- | --- |\n",
    "| banana cables | --- | --- | --- |\n",
    "| BNC cable | --- | --- | --- |\n",
    "\n",
    "_You should replace the **fill in** entries with appropriate info._"
   ]
  },
  {
   "cell_type": "markdown",
   "metadata": {},
   "source": [
    "# Objectives\n",
    "\n",
    "* Measure $V_\\mathrm{ex}$ for mercury vapor and compare to the value expected from the emission of light\n",
    "* Practice programming skills for controlling instrumentation introduced in an earlier experiment"
   ]
  },
  {
   "cell_type": "markdown",
   "metadata": {},
   "source": [
    "# Install and import libraries"
   ]
  },
  {
   "cell_type": "code",
   "execution_count": null,
   "metadata": {},
   "outputs": [],
   "source": [
    "!pip install whit-phys-util"
   ]
  },
  {
   "cell_type": "code",
   "execution_count": null,
   "metadata": {},
   "outputs": [],
   "source": [
    "import numpy as np\n",
    "import pandas as pd\n",
    "import matplotlib.pyplot as plt\n",
    "import whit_phys_util as buc\n",
    "import scipy.signal import find_peaks, savgol_filter"
   ]
  },
  {
   "cell_type": "markdown",
   "metadata": {},
   "source": [
    "# Connect to GitHub"
   ]
  },
  {
   "cell_type": "code",
   "execution_count": null,
   "metadata": {},
   "outputs": [],
   "source": [
    "repo = buc.local_repository(\"replace me\")"
   ]
  },
  {
   "cell_type": "markdown",
   "metadata": {},
   "source": [
    "# Import data"
   ]
  },
  {
   "cell_type": "code",
   "execution_count": null,
   "metadata": {},
   "outputs": [],
   "source": []
  },
  {
   "cell_type": "markdown",
   "metadata": {},
   "source": [
    "# Analysis"
   ]
  },
  {
   "cell_type": "code",
   "execution_count": null,
   "metadata": {},
   "outputs": [],
   "source": []
  }
 ],
 "metadata": {
  "language_info": {
   "name": "python"
  },
  "orig_nbformat": 4
 },
 "nbformat": 4,
 "nbformat_minor": 2
}
